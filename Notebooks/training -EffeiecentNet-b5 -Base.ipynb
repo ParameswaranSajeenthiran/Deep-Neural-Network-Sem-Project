{
 "cells": [
  {
   "cell_type": "markdown",
   "metadata": {
    "papermill": {
     "duration": 0.027654,
     "end_time": "2024-09-29T17:07:50.997365",
     "exception": false,
     "start_time": "2024-09-29T17:07:50.969711",
     "status": "completed"
    },
    "tags": []
   },
   "source": [
    "# Melanoma starter pipeline by [@shonenkov](https://www.kaggle.com/shonenkov)"
   ]
  },
  {
   "cell_type": "markdown",
   "metadata": {
    "papermill": {
     "duration": 0.025646,
     "end_time": "2024-09-29T17:07:51.049194",
     "exception": false,
     "start_time": "2024-09-29T17:07:51.023548",
     "status": "completed"
    },
    "tags": []
   },
   "source": [
    "# Main ideas\n",
    "\n",
    "\n",
    "- Using External Data\n",
    "- StratifyGroupKFold\n",
    "- Focal Loss / Label Smoothing\n",
    "- BalanceClassSampler\n",
    "- SimpleAugs\n",
    "- 512x512 image size\n",
    "- EfficientNet"
   ]
  },
  {
   "cell_type": "markdown",
   "metadata": {
    "papermill": {
     "duration": 0.029563,
     "end_time": "2024-09-29T17:07:51.104926",
     "exception": false,
     "start_time": "2024-09-29T17:07:51.075363",
     "status": "completed"
    },
    "tags": []
   },
   "source": [
    "# Dependencies"
   ]
  },
  {
   "cell_type": "code",
   "execution_count": 1,
   "metadata": {
    "_kg_hide-input": true,
    "_kg_hide-output": true,
    "execution": {
     "iopub.execute_input": "2024-09-29T17:07:51.164674Z",
     "iopub.status.busy": "2024-09-29T17:07:51.163991Z",
     "iopub.status.idle": "2024-09-29T17:08:00.941615Z",
     "shell.execute_reply": "2024-09-29T17:08:00.940861Z",
     "shell.execute_reply.started": "2024-09-29T16:48:55.988592Z"
    },
    "papermill": {
     "duration": 9.808724,
     "end_time": "2024-09-29T17:08:00.941740",
     "exception": false,
     "start_time": "2024-09-29T17:07:51.133016",
     "status": "completed"
    },
    "tags": []
   },
   "outputs": [
    {
     "name": "stdout",
     "output_type": "stream",
     "text": [
      "\u001b[33mWARNING: You are using pip version 20.1; however, version 24.0 is available.\r\n",
      "You should consider upgrading via the '/opt/conda/bin/python3.7 -m pip install --upgrade pip' command.\u001b[0m\r\n"
     ]
    }
   ],
   "source": [
    "!pip install -q efficientnet_pytorch > /dev/null"
   ]
  },
  {
   "cell_type": "code",
   "execution_count": 2,
   "metadata": {
    "_kg_hide-input": true,
    "_kg_hide-output": true,
    "execution": {
     "iopub.execute_input": "2024-09-29T17:08:01.009501Z",
     "iopub.status.busy": "2024-09-29T17:08:01.008490Z",
     "iopub.status.idle": "2024-09-29T17:08:04.111713Z",
     "shell.execute_reply": "2024-09-29T17:08:04.112262Z",
     "shell.execute_reply.started": "2024-09-29T16:49:02.675719Z"
    },
    "papermill": {
     "duration": 3.143333,
     "end_time": "2024-09-29T17:08:04.112409",
     "exception": false,
     "start_time": "2024-09-29T17:08:00.969076",
     "status": "completed"
    },
    "tags": []
   },
   "outputs": [],
   "source": [
    "from glob import glob\n",
    "import pandas as pd\n",
    "from sklearn.model_selection import GroupKFold\n",
    "import cv2\n",
    "from skimage import io\n",
    "import albumentations as A\n",
    "import torch\n",
    "import os\n",
    "from datetime import datetime\n",
    "import time\n",
    "import random\n",
    "import cv2\n",
    "import pandas as pd\n",
    "import numpy as np\n",
    "import albumentations as A\n",
    "import matplotlib.pyplot as plt\n",
    "from albumentations.pytorch.transforms import ToTensorV2\n",
    "from sklearn.model_selection import StratifiedKFold\n",
    "from torch.utils.data import Dataset,DataLoader\n",
    "from torch.utils.data.sampler import SequentialSampler, RandomSampler\n",
    "from torch.nn import functional as F\n",
    "from glob import glob\n",
    "import sklearn\n",
    "from torch import nn\n",
    "import warnings\n",
    "\n",
    "warnings.filterwarnings(\"ignore\") \n",
    "warnings.filterwarnings(\"ignore\", category=DeprecationWarning) \n",
    "\n",
    "SEED = 42\n",
    "\n",
    "def seed_everything(seed):\n",
    "    random.seed(seed)\n",
    "    os.environ['PYTHONHASHSEED'] = str(seed)\n",
    "    np.random.seed(seed)\n",
    "    torch.manual_seed(seed)\n",
    "    torch.cuda.manual_seed(seed)\n",
    "    torch.backends.cudnn.deterministic = True\n",
    "    torch.backends.cudnn.benchmark = True\n",
    "\n",
    "seed_everything(SEED)"
   ]
  },
  {
   "cell_type": "markdown",
   "metadata": {
    "papermill": {
     "duration": 0.026277,
     "end_time": "2024-09-29T17:08:04.165801",
     "exception": false,
     "start_time": "2024-09-29T17:08:04.139524",
     "status": "completed"
    },
    "tags": []
   },
   "source": [
    "# External data\n",
    "\n",
    "I have prepared kernel with merging data. Don't forget to read [this kernel](https://www.kaggle.com/shonenkov/merge-external-data) ;)"
   ]
  },
  {
   "cell_type": "code",
   "execution_count": 3,
   "metadata": {
    "execution": {
     "iopub.execute_input": "2024-09-29T17:08:04.223275Z",
     "iopub.status.busy": "2024-09-29T17:08:04.222450Z",
     "iopub.status.idle": "2024-09-29T17:08:04.225046Z",
     "shell.execute_reply": "2024-09-29T17:08:04.224495Z",
     "shell.execute_reply.started": "2024-09-29T16:49:03.942608Z"
    },
    "papermill": {
     "duration": 0.032903,
     "end_time": "2024-09-29T17:08:04.225145",
     "exception": false,
     "start_time": "2024-09-29T17:08:04.192242",
     "status": "completed"
    },
    "tags": []
   },
   "outputs": [],
   "source": [
    "DATA_PATH = '../input/melanoma-merged-external-data-512x512-jpeg'"
   ]
  },
  {
   "cell_type": "markdown",
   "metadata": {
    "papermill": {
     "duration": 0.025802,
     "end_time": "2024-09-29T17:08:04.276993",
     "exception": false,
     "start_time": "2024-09-29T17:08:04.251191",
     "status": "completed"
    },
    "tags": []
   },
   "source": [
    "# StratifyGroupKFold\n",
    "\n",
    "I think group by patient_id is very important. Also I think that stratify by sex, target, source, anatom_site_general_challenge also useful.\n",
    "Code with getting folds you can find [here](https://www.kaggle.com/shonenkov/merge-external-data)"
   ]
  },
  {
   "cell_type": "code",
   "execution_count": 4,
   "metadata": {
    "execution": {
     "iopub.execute_input": "2024-09-29T17:08:04.338290Z",
     "iopub.status.busy": "2024-09-29T17:08:04.337695Z",
     "iopub.status.idle": "2024-09-29T17:08:04.495053Z",
     "shell.execute_reply": "2024-09-29T17:08:04.494277Z",
     "shell.execute_reply.started": "2024-09-29T16:49:03.947776Z"
    },
    "papermill": {
     "duration": 0.19143,
     "end_time": "2024-09-29T17:08:04.495175",
     "exception": false,
     "start_time": "2024-09-29T17:08:04.303745",
     "status": "completed"
    },
    "tags": []
   },
   "outputs": [],
   "source": [
    "df_folds = pd.read_csv(f'{DATA_PATH}/folds.csv', index_col='image_id')"
   ]
  },
  {
   "cell_type": "code",
   "execution_count": 5,
   "metadata": {
    "execution": {
     "iopub.execute_input": "2024-09-29T17:08:04.570546Z",
     "iopub.status.busy": "2024-09-29T17:08:04.569548Z",
     "iopub.status.idle": "2024-09-29T17:08:04.590614Z",
     "shell.execute_reply": "2024-09-29T17:08:04.590029Z",
     "shell.execute_reply.started": "2024-09-29T16:49:04.067690Z"
    },
    "papermill": {
     "duration": 0.063854,
     "end_time": "2024-09-29T17:08:04.590728",
     "exception": false,
     "start_time": "2024-09-29T17:08:04.526874",
     "status": "completed"
    },
    "tags": []
   },
   "outputs": [
    {
     "data": {
      "text/plain": [
       "set()"
      ]
     },
     "execution_count": 5,
     "metadata": {},
     "output_type": "execute_result"
    }
   ],
   "source": [
    "set(df_folds[df_folds['fold'] == 0]['patient_id'].values).intersection(df_folds[df_folds['fold'] == 1]['patient_id'].values)"
   ]
  },
  {
   "cell_type": "code",
   "execution_count": 6,
   "metadata": {
    "execution": {
     "iopub.execute_input": "2024-09-29T17:08:04.649376Z",
     "iopub.status.busy": "2024-09-29T17:08:04.648704Z",
     "iopub.status.idle": "2024-09-29T17:08:04.837800Z",
     "shell.execute_reply": "2024-09-29T17:08:04.838239Z",
     "shell.execute_reply.started": "2024-09-29T16:49:04.088065Z"
    },
    "papermill": {
     "duration": 0.221026,
     "end_time": "2024-09-29T17:08:04.838380",
     "exception": false,
     "start_time": "2024-09-29T17:08:04.617354",
     "status": "completed"
    },
    "tags": []
   },
   "outputs": [
    {
     "data": {
      "image/png": "[encoded data removed]",
      "text/plain": [
       "<Figure size 432x288 with 1 Axes>"
      ]
     },
     "metadata": {
      "needs_background": "light"
     },
     "output_type": "display_data"
    }
   ],
   "source": [
    "df_folds[df_folds['fold'] == 0]['target'].hist();"
   ]
  },
  {
   "cell_type": "code",
   "execution_count": 7,
   "metadata": {
    "execution": {
     "iopub.execute_input": "2024-09-29T17:08:04.899329Z",
     "iopub.status.busy": "2024-09-29T17:08:04.898728Z",
     "iopub.status.idle": "2024-09-29T17:08:05.058145Z",
     "shell.execute_reply": "2024-09-29T17:08:05.057541Z",
     "shell.execute_reply.started": "2024-09-29T16:49:04.257735Z"
    },
    "papermill": {
     "duration": 0.191381,
     "end_time": "2024-09-29T17:08:05.058254",
     "exception": false,
     "start_time": "2024-09-29T17:08:04.866873",
     "status": "completed"
    },
    "tags": []
   },
   "outputs": [
    {
     "data": {
      "image/png": "[encoded data removed]",
      "text/plain": [
       "<Figure size 432x288 with 1 Axes>"
      ]
     },
     "metadata": {
      "needs_background": "light"
     },
     "output_type": "display_data"
    }
   ],
   "source": [
    "df_folds[df_folds['fold'] == 1]['target'].hist();"
   ]
  },
  {
   "cell_type": "markdown",
   "metadata": {
    "papermill": {
     "duration": 0.029735,
     "end_time": "2024-09-29T17:08:05.117192",
     "exception": false,
     "start_time": "2024-09-29T17:08:05.087457",
     "status": "completed"
    },
    "tags": []
   },
   "source": [
    "# Augmentations"
   ]
  },
  {
   "cell_type": "code",
   "execution_count": 8,
   "metadata": {
    "execution": {
     "iopub.execute_input": "2024-09-29T17:08:05.187207Z",
     "iopub.status.busy": "2024-09-29T17:08:05.186311Z",
     "iopub.status.idle": "2024-09-29T17:08:05.189373Z",
     "shell.execute_reply": "2024-09-29T17:08:05.188833Z",
     "shell.execute_reply.started": "2024-09-29T16:49:04.420544Z"
    },
    "papermill": {
     "duration": 0.042647,
     "end_time": "2024-09-29T17:08:05.189515",
     "exception": false,
     "start_time": "2024-09-29T17:08:05.146868",
     "status": "completed"
    },
    "tags": []
   },
   "outputs": [],
   "source": [
    "def get_train_transforms():\n",
    "    return A.Compose([\n",
    "            A.RandomSizedCrop(min_max_height=(400, 400), height=512, width=512, p=0.5),\n",
    "            A.RandomRotate90(p=0.5),\n",
    "            A.HorizontalFlip(p=0.5),\n",
    "            A.VerticalFlip(p=0.5),\n",
    "            A.Resize(height=512, width=512, p=1),\n",
    "            A.Cutout(num_holes=8, max_h_size=64, max_w_size=64, fill_value=0, p=0.5),\n",
    "            ToTensorV2(p=1.0),                  \n",
    "        ], p=1.0)\n",
    "\n",
    "def get_valid_transforms():\n",
    "    return A.Compose([\n",
    "            A.Resize(height=512, width=512, p=1.0),\n",
    "            ToTensorV2(p=1.0),\n",
    "        ], p=1.0)"
   ]
  },
  {
   "cell_type": "markdown",
   "metadata": {
    "papermill": {
     "duration": 0.02795,
     "end_time": "2024-09-29T17:08:05.246558",
     "exception": false,
     "start_time": "2024-09-29T17:08:05.218608",
     "status": "completed"
    },
    "tags": []
   },
   "source": [
    "# Dataset"
   ]
  },
  {
   "cell_type": "code",
   "execution_count": 9,
   "metadata": {
    "_kg_hide-output": true,
    "execution": {
     "iopub.execute_input": "2024-09-29T17:08:05.330791Z",
     "iopub.status.busy": "2024-09-29T17:08:05.330113Z",
     "iopub.status.idle": "2024-09-29T17:08:05.332786Z",
     "shell.execute_reply": "2024-09-29T17:08:05.332272Z",
     "shell.execute_reply.started": "2024-09-29T16:49:04.432342Z"
    },
    "papermill": {
     "duration": 0.058371,
     "end_time": "2024-09-29T17:08:05.332897",
     "exception": false,
     "start_time": "2024-09-29T17:08:05.274526",
     "status": "completed"
    },
    "tags": []
   },
   "outputs": [],
   "source": [
    "TRAIN_ROOT_PATH = f'{DATA_PATH}/512x512-dataset-melanoma/512x512-dataset-melanoma'\n",
    "\n",
    "def onehot(size, target):\n",
    "    vec = torch.zeros(size, dtype=torch.float32)\n",
    "    vec[target] = 1.\n",
    "    return vec\n",
    "\n",
    "class DatasetRetriever(Dataset):\n",
    "\n",
    "    def __init__(self,df: pd.DataFrame, image_ids, labels, transforms=None,meta_features=None):\n",
    "        super().__init__()\n",
    "        self.image_ids = image_ids\n",
    "        self.labels = labels\n",
    "        self.transforms = transforms\n",
    "        self.df = df\n",
    "#         self.train = train\n",
    "        self.meta_features = meta_features\n",
    "        \n",
    "\n",
    "    def __getitem__(self, idx: int):\n",
    "        image_id = self.image_ids[idx]\n",
    "        image = cv2.imread(f'{TRAIN_ROOT_PATH}/{image_id}.jpg', cv2.IMREAD_COLOR)\n",
    "        image = image.astype(np.float32) / 255.0\n",
    "\n",
    "        label = self.labels[idx]\n",
    "\n",
    "        if self.transforms:\n",
    "            sample = {'image': image}\n",
    "            sample = self.transforms(**sample)\n",
    "            image = sample['image']\n",
    "\n",
    "        target = onehot(2, label)\n",
    "        \n",
    "        \n",
    "        meta = np.array(self.df.loc[self.df['image_id'] == image_id][self.meta_features].values, dtype=np.float32)\n",
    "#         print(meta.shape)\n",
    "        \n",
    "        return  (image, meta)  , target\n",
    "\n",
    "    def __len__(self) -> int:\n",
    "        return self.image_ids.shape[0]\n",
    "\n",
    "    def get_labels(self):\n",
    "        return list(self.labels)\n",
    "    \n",
    "class MelanomaDataset(Dataset):\n",
    "    def __init__(self, df: pd.DataFrame, imfolder: str, isic_imfolder: str = None, train: bool = True, transforms=None, meta_features=None):\n",
    "        \"\"\"\n",
    "        Class initialization\n",
    "        Args:\n",
    "            df (pd.DataFrame): DataFrame with data description\n",
    "            imfolder (str): folder with images\n",
    "            isic_imfolder (str): optional folder with ISIC images\n",
    "            train (bool): flag of whether a training dataset is being initialized or testing one\n",
    "            transforms: image transformation method to be applied\n",
    "            meta_features (list): list of features with meta information, such as sex and age\n",
    "        \"\"\"\n",
    "        self.df = df\n",
    "        self.imfolder = imfolder\n",
    "        self.isic_imfolder = isic_imfolder  # New parameter for ISIC images\n",
    "        self.transforms = transforms\n",
    "        self.train = train\n",
    "        self.meta_features = meta_features\n",
    "        \n",
    "    def get_image_path(self, image_name):\n",
    "        \"\"\"\n",
    "        Helper function to get the full image path.\n",
    "        Checks the main image folder first, then the ISIC folder if specified.\n",
    "        \"\"\"\n",
    "        # Construct main image path\n",
    "        main_path = os.path.join(self.imfolder, f\"{image_name}.jpg\")\n",
    "        if os.path.exists(main_path):\n",
    "            return main_path\n",
    "        \n",
    "        # If ISIC images are needed, check in the ISIC folder\n",
    "        if False:\n",
    "            isic_path = os.path.join(self.isic_imfolder, f\"{image_name}.jpg\")\n",
    "            if os.path.exists(isic_path):\n",
    "                return isic_path\n",
    "        \n",
    "        # Raise an error if the image is not found in either location\n",
    "        raise FileNotFoundError(f\"Image {image_name} not found in both folders.\")\n",
    "\n",
    "    def __getitem__(self, index):\n",
    "        # Get the image name from the DataFrame\n",
    "        image_name = self.df.iloc[index]['image_id']\n",
    "        \n",
    "        # Use the helper function to get the full image path\n",
    "        im_path = self.get_image_path(image_name)\n",
    "        \n",
    "        # Load the image\n",
    "        x = cv2.imread(im_path)\n",
    "        x = x.astype(np.float32) / 255.0\n",
    "\n",
    "        \n",
    "        # Extract meta features\n",
    "        meta = np.array(self.df.iloc[index][self.meta_features].values, dtype=np.float32)\n",
    "        print(meta.shape)\n",
    "        # Convert image to RGB\n",
    "#         image = cv2.cvtColor(x, cv2.COLOR_BGR2RGB)\n",
    "\n",
    "        # Apply transformations if any\n",
    "        if self.transforms is not None:\n",
    "            res = self.transforms(image=x)\n",
    "            x = res['image']\n",
    "        else:\n",
    "            x = image.astype(np.float32)\n",
    "\n",
    "        # Change channel order from HWC to CHW\n",
    "#         x = x.transpose(2, 0, 1)\n",
    "            \n",
    "        # Return the tuple of (image, meta) and label if in training mode\n",
    "        if self.train:\n",
    "            y = self.df.iloc[index]['target']\n",
    "            return (x, meta), y\n",
    "        else:\n",
    "            return (x, meta)\n",
    "    \n",
    "    def __len__(self):\n",
    "        return len(self.df)\n",
    "    "
   ]
  },
  {
   "cell_type": "markdown",
   "metadata": {
    "papermill": {
     "duration": 0.028355,
     "end_time": "2024-09-29T17:08:05.390019",
     "exception": false,
     "start_time": "2024-09-29T17:08:05.361664",
     "status": "completed"
    },
    "tags": []
   },
   "source": [
    "# Metrics"
   ]
  },
  {
   "cell_type": "code",
   "execution_count": 10,
   "metadata": {
    "execution": {
     "iopub.execute_input": "2024-09-29T17:08:05.467288Z",
     "iopub.status.busy": "2024-09-29T17:08:05.466653Z",
     "iopub.status.idle": "2024-09-29T17:08:05.469796Z",
     "shell.execute_reply": "2024-09-29T17:08:05.469161Z",
     "shell.execute_reply.started": "2024-09-29T16:49:04.464440Z"
    },
    "papermill": {
     "duration": 0.052056,
     "end_time": "2024-09-29T17:08:05.469905",
     "exception": false,
     "start_time": "2024-09-29T17:08:05.417849",
     "status": "completed"
    },
    "tags": []
   },
   "outputs": [],
   "source": [
    "from sklearn import metrics\n",
    "\n",
    "class AverageMeter(object):\n",
    "    \"\"\"Computes and stores the average and current value\"\"\"\n",
    "    def __init__(self):\n",
    "        self.reset()\n",
    "\n",
    "    def reset(self):\n",
    "        self.val = 0\n",
    "        self.avg = 0\n",
    "        self.sum = 0\n",
    "        self.count = 0\n",
    "\n",
    "    def update(self, val, n=1):\n",
    "        self.val = val\n",
    "        self.sum += val * n\n",
    "        self.count += n\n",
    "        self.avg = self.sum / self.count\n",
    "\n",
    "\n",
    "class RocAucMeter(object):\n",
    "    def __init__(self):\n",
    "        self.reset()\n",
    "\n",
    "    def reset(self):\n",
    "        self.y_true = np.array([0,1])\n",
    "        self.y_pred = np.array([0.5,0.5])\n",
    "        self.score = 0\n",
    "\n",
    "    def update(self, y_true, y_pred):\n",
    "        y_true = y_true.cpu().numpy().argmax(axis=1).clip(min=0, max=1).astype(int)\n",
    "        # y_pred = 1 - nn.functional.softmax(y_pred, dim=1).data.cpu().numpy()[:,0]\n",
    "        y_pred = nn.functional.softmax(y_pred, dim=1).data.cpu().numpy()[:,1]\n",
    "        self.y_true = np.hstack((self.y_true, y_true))\n",
    "        self.y_pred = np.hstack((self.y_pred, y_pred))\n",
    "        self.score = sklearn.metrics.roc_auc_score(self.y_true, self.y_pred)\n",
    "\n",
    "    @property\n",
    "    def avg(self):\n",
    "        return self.score\n",
    "\n",
    "    \n",
    "class APScoreMeter(RocAucMeter):\n",
    "    def __init__(self):\n",
    "        super(APScoreMeter, self).__init__()\n",
    "\n",
    "    def update(self, y_true, y_pred):\n",
    "        y_true = y_true.cpu().numpy().argmax(axis=1).clip(min=0, max=1).astype(int)\n",
    "        y_pred = nn.functional.softmax(y_pred, dim=1).data.cpu().numpy()[:,1]\n",
    "        self.y_true = np.hstack((self.y_true, y_true))\n",
    "        self.y_pred = np.hstack((self.y_pred, y_pred))\n",
    "        self.score = sklearn.metrics.average_precision_score(self.y_true, self.y_pred)"
   ]
  },
  {
   "cell_type": "markdown",
   "metadata": {
    "papermill": {
     "duration": 0.027864,
     "end_time": "2024-09-29T17:08:05.526104",
     "exception": false,
     "start_time": "2024-09-29T17:08:05.498240",
     "status": "completed"
    },
    "tags": []
   },
   "source": [
    "# Loss"
   ]
  },
  {
   "cell_type": "code",
   "execution_count": 11,
   "metadata": {
    "execution": {
     "iopub.execute_input": "2024-09-29T17:08:05.599123Z",
     "iopub.status.busy": "2024-09-29T17:08:05.598278Z",
     "iopub.status.idle": "2024-09-29T17:08:05.601063Z",
     "shell.execute_reply": "2024-09-29T17:08:05.600426Z",
     "shell.execute_reply.started": "2024-09-29T16:49:04.485580Z"
    },
    "papermill": {
     "duration": 0.046937,
     "end_time": "2024-09-29T17:08:05.601169",
     "exception": false,
     "start_time": "2024-09-29T17:08:05.554232",
     "status": "completed"
    },
    "tags": []
   },
   "outputs": [],
   "source": [
    "class FocalLoss(nn.Module):\n",
    "    def __init__(self, alpha=1, gamma=2, logits=False, reduce=True):\n",
    "        super(FocalLoss, self).__init__()\n",
    "        self.alpha = alpha\n",
    "        self.gamma = gamma\n",
    "        self.logits = logits\n",
    "        self.reduce = reduce\n",
    "\n",
    "    def forward(self, inputs, targets):\n",
    "        if self.logits:\n",
    "            BCE_loss = F.binary_cross_entropy_with_logits(inputs, targets)\n",
    "        else:\n",
    "            BCE_loss = F.binary_cross_entropy(inputs, targets)\n",
    "\n",
    "        pt = torch.exp(-BCE_loss)\n",
    "        F_loss = self.alpha * (1-pt)**self.gamma * BCE_loss\n",
    "\n",
    "        if self.reduce:\n",
    "            return torch.mean(F_loss)\n",
    "        else:\n",
    "            return F_loss\n",
    "        \n",
    "class LabelSmoothing(nn.Module):\n",
    "    def __init__(self, smoothing = 0.1):\n",
    "        super(LabelSmoothing, self).__init__()\n",
    "        self.confidence = 1.0 - smoothing\n",
    "        self.smoothing = smoothing\n",
    "\n",
    "    def forward(self, x, target):\n",
    "        if self.training:\n",
    "            x = x.float()\n",
    "            target = target.float()\n",
    "            logprobs = torch.nn.functional.log_softmax(x, dim = -1)\n",
    "\n",
    "            nll_loss = -logprobs * target\n",
    "            nll_loss = nll_loss.sum(-1)\n",
    "    \n",
    "            smooth_loss = -logprobs.mean(dim=-1)\n",
    "\n",
    "            loss = self.confidence * nll_loss + self.smoothing * smooth_loss\n",
    "\n",
    "            return loss.mean()\n",
    "        else:\n",
    "            return torch.nn.functional.cross_entropy(x, target)"
   ]
  },
  {
   "cell_type": "markdown",
   "metadata": {
    "papermill": {
     "duration": 0.027752,
     "end_time": "2024-09-29T17:08:05.657931",
     "exception": false,
     "start_time": "2024-09-29T17:08:05.630179",
     "status": "completed"
    },
    "tags": []
   },
   "source": [
    "# Net"
   ]
  },
  {
   "cell_type": "markdown",
   "metadata": {
    "papermill": {
     "duration": 0.027591,
     "end_time": "2024-09-29T17:08:05.713444",
     "exception": false,
     "start_time": "2024-09-29T17:08:05.685853",
     "status": "completed"
    },
    "tags": []
   },
   "source": []
  },
  {
   "cell_type": "code",
   "execution_count": 12,
   "metadata": {
    "_kg_hide-output": true,
    "execution": {
     "iopub.execute_input": "2024-09-29T17:08:05.775887Z",
     "iopub.status.busy": "2024-09-29T17:08:05.775231Z",
     "iopub.status.idle": "2024-09-29T17:08:10.610430Z",
     "shell.execute_reply": "2024-09-29T17:08:10.609763Z",
     "shell.execute_reply.started": "2024-09-29T16:49:04.502212Z"
    },
    "papermill": {
     "duration": 4.869084,
     "end_time": "2024-09-29T17:08:10.610570",
     "exception": false,
     "start_time": "2024-09-29T17:08:05.741486",
     "status": "completed"
    },
    "tags": []
   },
   "outputs": [
    {
     "name": "stderr",
     "output_type": "stream",
     "text": [
      "Downloading: \"https://github.com/lukemelas/EfficientNet-PyTorch/releases/download/1.0/efficientnet-b5-b6417697.pth\" to /root/.cache/torch/checkpoints/efficientnet-b5-b6417697.pth\n"
     ]
    },
    {
     "data": {
      "application/vnd.jupyter.widget-view+json": {
       "model_id": "8c04f1fb2f504f87a231b321d611c6fa",
       "version_major": 2,
       "version_minor": 0
      },
      "text/plain": [
       "HBox(children=(FloatProgress(value=0.0, max=122410125.0), HTML(value='')))"
      ]
     },
     "metadata": {},
     "output_type": "display_data"
    },
    {
     "name": "stdout",
     "output_type": "stream",
     "text": [
      "\n",
      "Loaded pretrained weights for efficientnet-b5\n"
     ]
    }
   ],
   "source": [
    "from efficientnet_pytorch import EfficientNet\n",
    "\n",
    "def get_net():\n",
    "    net = EfficientNet.from_pretrained('efficientnet-b5')\n",
    "    net._fc = nn.Linear(in_features=2048, out_features=2, bias=True)\n",
    "    return net\n",
    "\n",
    "net = get_net().cuda()"
   ]
  },
  {
   "cell_type": "code",
   "execution_count": 13,
   "metadata": {
    "execution": {
     "iopub.execute_input": "2024-09-29T17:08:10.687568Z",
     "iopub.status.busy": "2024-09-29T17:08:10.686800Z",
     "iopub.status.idle": "2024-09-29T17:08:10.880242Z",
     "shell.execute_reply": "2024-09-29T17:08:10.879635Z",
     "shell.execute_reply.started": "2024-09-29T16:49:06.647471Z"
    },
    "papermill": {
     "duration": 0.239569,
     "end_time": "2024-09-29T17:08:10.880400",
     "exception": false,
     "start_time": "2024-09-29T17:08:10.640831",
     "status": "completed"
    },
    "tags": []
   },
   "outputs": [],
   "source": [
    "train_df = pd.read_csv('/kaggle/input/melanoma-merged-external-data-512x512-jpeg/folds.csv')\n",
    "test_df = pd.read_csv('/kaggle/input/siim-isic-melanoma-classification/test.csv')\n",
    "# isic_train_df = pd.read_csv('/kaggle/input/jpeg-isic2019-512x512//train.csv')\n",
    "\n",
    "# Concatenate the two datasets for training\n",
    "# train_df = pd.concat([train_df, isic_train_df], axis=0, ignore_index=True)\n",
    "\n",
    "# One-hot encoding of anatom_site_general_challenge feature\n",
    "concat = pd.concat([train_df['anatom_site_general_challenge'], test_df['anatom_site_general_challenge']], ignore_index=True)\n",
    "dummies = pd.get_dummies(concat, dummy_na=True, dtype=np.uint8, prefix='site')\n",
    "train_df = pd.concat([train_df, dummies.iloc[:train_df.shape[0]]], axis=1)\n",
    "test_df = pd.concat([test_df, dummies.iloc[train_df.shape[0]:].reset_index(drop=True)], axis=1)\n",
    "\n",
    "# Sex features\n",
    "train_df['sex'] = train_df['sex'].map({'male': 1, 'female': 0})\n",
    "test_df['sex'] = test_df['sex'].map({'male': 1, 'female': 0})\n",
    "train_df['sex'] = train_df['sex'].fillna(-1)\n",
    "test_df['sex'] = test_df['sex'].fillna(-1)\n",
    "\n",
    "# Age features\n",
    "train_df['age_approx'] /= train_df['age_approx'].max()\n",
    "test_df['age_approx'] /= test_df['age_approx'].max()\n",
    "train_df['age_approx'] = train_df['age_approx'].fillna(0)\n",
    "test_df['age_approx'] = test_df['age_approx'].fillna(0)\n",
    "\n",
    "train_df['patient_id'] = train_df['patient_id'].fillna(0)\n",
    "meta_features = ['sex', 'age_approx'] + [col for col in train_df.columns if 'site_' in col]\n",
    "meta_features.remove('anatom_site_general_challenge')"
   ]
  },
  {
   "cell_type": "code",
   "execution_count": null,
   "metadata": {
    "papermill": {
     "duration": 0.031273,
     "end_time": "2024-09-29T17:08:10.942957",
     "exception": false,
     "start_time": "2024-09-29T17:08:10.911684",
     "status": "completed"
    },
    "tags": []
   },
   "outputs": [],
   "source": []
  },
  {
   "cell_type": "code",
   "execution_count": 14,
   "metadata": {
    "execution": {
     "iopub.execute_input": "2024-09-29T17:08:11.019247Z",
     "iopub.status.busy": "2024-09-29T17:08:11.018374Z",
     "iopub.status.idle": "2024-09-29T17:08:11.020995Z",
     "shell.execute_reply": "2024-09-29T17:08:11.020336Z",
     "shell.execute_reply.started": "2024-09-29T16:49:06.821023Z"
    },
    "papermill": {
     "duration": 0.048231,
     "end_time": "2024-09-29T17:08:11.021103",
     "exception": false,
     "start_time": "2024-09-29T17:08:10.972872",
     "status": "completed"
    },
    "tags": []
   },
   "outputs": [],
   "source": [
    "class Net(nn.Module):\n",
    "    def __init__(self, arch, n_meta_features: int):\n",
    "        super(Net, self).__init__()\n",
    "        self.arch = arch\n",
    "        self.dropouts = nn.ModuleList([\n",
    "            nn.Dropout(0.5) for _ in range(5)\n",
    "        ])\n",
    "        if 'ResNet' in str(arch.__class__):\n",
    "            self.arch.fc = nn.Linear(in_features=512, out_features=500, bias=True)\n",
    "        elif 'EfficientNet' in str(arch.__class__):\n",
    "            \n",
    "            \n",
    "            \n",
    "#             net = EfficientNet.from_pretrained('efficientnet-b5')\n",
    "#             net._fc = nn.Linear(in_features=2048, out_features=2, bias=True)\n",
    "            self.arch._fc = nn.Linear(in_features=2048, out_features=500, bias=True)\n",
    "        elif 'Xception' in str(arch.__class__):\n",
    "            self.arch.fc = nn.Linear(in_features=2048, out_features=500, bias=True)  # Xception typically has 2048 features\n",
    "        \n",
    "        self.meta = nn.Sequential(nn.Linear(n_meta_features, 500),\n",
    "                                  nn.BatchNorm1d(500),\n",
    "                                  nn.ReLU(),\n",
    "                                  nn.Dropout(p=0.2),\n",
    "                                  nn.Linear(500, 250),  # FC layer output will have 250 features\n",
    "                                  nn.BatchNorm1d(250),\n",
    "                                  nn.ReLU(),\n",
    "                                  nn.Dropout(p=0.2))\n",
    "        self.ouput = nn.Linear(500 + 250, 2)\n",
    "        \n",
    "    def forward(self, inputs):\n",
    "        \"\"\"\n",
    "        No sigmoid in forward because we are going to use BCEWithLogitsLoss\n",
    "        Which applies sigmoid for us when calculating a loss\n",
    "        \"\"\"\n",
    "        x, meta = inputs\n",
    "#         print(meta.shape)\n",
    "        \n",
    "        \n",
    "        cnn_features = self.arch(x)\n",
    "#         print(cnn_features.shape)\n",
    "        meta_features = self.meta(meta.squeeze())\n",
    "#         print(meta_features.shape)\n",
    "        features = torch.cat((cnn_features, meta_features), dim=1)\n",
    "#         for i, dropout in enumerate(self.dropouts):\n",
    "#             if i == 0:\n",
    "#                 out = self.ouput(dropout(x))\n",
    "#             else:\n",
    "#                 out += self.ouput(dropout(x))\n",
    "        output = self.ouput(features)\n",
    "#         out /= len(self.dropouts)\n",
    "        return output"
   ]
  },
  {
   "cell_type": "code",
   "execution_count": 15,
   "metadata": {
    "execution": {
     "iopub.execute_input": "2024-09-29T17:08:11.088099Z",
     "iopub.status.busy": "2024-09-29T17:08:11.087166Z",
     "iopub.status.idle": "2024-09-29T17:08:11.743331Z",
     "shell.execute_reply": "2024-09-29T17:08:11.742833Z",
     "shell.execute_reply.started": "2024-09-29T16:49:06.839095Z"
    },
    "papermill": {
     "duration": 0.69253,
     "end_time": "2024-09-29T17:08:11.743445",
     "exception": false,
     "start_time": "2024-09-29T17:08:11.050915",
     "status": "completed"
    },
    "tags": []
   },
   "outputs": [
    {
     "name": "stdout",
     "output_type": "stream",
     "text": [
      "Loaded pretrained weights for efficientnet-b5\n"
     ]
    }
   ],
   "source": [
    "\n",
    "from efficientnet_pytorch import EfficientNet\n",
    "device = torch.device(\"cuda\" if torch.cuda.is_available() else \"cpu\")\n",
    "\n",
    "arch = EfficientNet.from_pretrained('efficientnet-b5')\n",
    "net = Net(arch=arch, n_meta_features=len(meta_features))  # Initialize model\n",
    "net = net.to(device)"
   ]
  },
  {
   "cell_type": "markdown",
   "metadata": {
    "papermill": {
     "duration": 0.029805,
     "end_time": "2024-09-29T17:08:11.804073",
     "exception": false,
     "start_time": "2024-09-29T17:08:11.774268",
     "status": "completed"
    },
    "tags": []
   },
   "source": [
    "# Fitter"
   ]
  },
  {
   "cell_type": "code",
   "execution_count": 16,
   "metadata": {
    "execution": {
     "iopub.execute_input": "2024-09-29T17:08:11.918116Z",
     "iopub.status.busy": "2024-09-29T17:08:11.900673Z",
     "iopub.status.idle": "2024-09-29T17:08:11.920894Z",
     "shell.execute_reply": "2024-09-29T17:08:11.920179Z",
     "shell.execute_reply.started": "2024-09-29T16:49:07.508002Z"
    },
    "papermill": {
     "duration": 0.085544,
     "end_time": "2024-09-29T17:08:11.921012",
     "exception": false,
     "start_time": "2024-09-29T17:08:11.835468",
     "status": "completed"
    },
    "tags": []
   },
   "outputs": [],
   "source": [
    "class Fitter:\n",
    "    \n",
    "    def __init__(self, model, device, config, folder):\n",
    "        self.config = config\n",
    "        self.epoch = 0\n",
    "\n",
    "        self.base_dir = f'./{folder}'\n",
    "        if not os.path.exists(self.base_dir):\n",
    "            os.makedirs(self.base_dir)\n",
    "\n",
    "        self.log_path = f'{self.base_dir}/log.txt'\n",
    "        self.best_score = 0\n",
    "        self.best_loss = 10**5\n",
    "        self.best_ap = 0\n",
    "        \n",
    "        self.model = model\n",
    "        self.device = device\n",
    "\n",
    "        param_optimizer = list(self.model.named_parameters())\n",
    "        no_decay = ['bias', 'LayerNorm.bias', 'LayerNorm.weight']\n",
    "        optimizer_grouped_parameters = [\n",
    "            {'params': [p for n, p in param_optimizer if not any(nd in n for nd in no_decay)], 'weight_decay': 0.001},\n",
    "            {'params': [p for n, p in param_optimizer if any(nd in n for nd in no_decay)], 'weight_decay': 0.0}\n",
    "        ] \n",
    "\n",
    "        self.optimizer = torch.optim.AdamW(self.model.parameters(), lr=config.lr)\n",
    "        self.scheduler = config.SchedulerClass(self.optimizer, **config.scheduler_params)\n",
    "\n",
    "#         self.criterion = FocalLoss(logits=True).to(self.device)\n",
    "        self.criterion = LabelSmoothing().to(self.device)\n",
    "        self.log(f'Fitter prepared. Device is {self.device}')\n",
    "\n",
    "    def fit(self, train_loader, validation_loader):\n",
    "        for e in range(self.config.n_epochs):\n",
    "            if self.config.verbose:\n",
    "                lr = self.optimizer.param_groups[0]['lr']\n",
    "                timestamp = datetime.utcnow().isoformat()\n",
    "                self.log(f'\\n{timestamp}\\nLR: {lr}')\n",
    "\n",
    "            t = time.time()\n",
    "            summary_loss, roc_auc_scores, ap_scores = self.train_one_epoch(train_loader)\n",
    "            self.log(f'[RESULT]: Train. Epoch: {self.epoch}, summary_loss: {summary_loss.avg:.5f}, roc_auc: {roc_auc_scores.avg:.5f}, ap: {ap_scores.avg:.5f}, time: {(time.time() - t):.5f}')\n",
    "\n",
    "            t = time.time()\n",
    "            summary_loss, roc_auc_scores, ap_scores = self.validation(validation_loader)\n",
    "\n",
    "            self.log(f'[RESULT]: Val. Epoch: {self.epoch}, summary_loss: {summary_loss.avg:.5f}, roc_auc: {roc_auc_scores.avg:.5f}, ap: {ap_scores.avg:.5f}, time: {(time.time() - t):.5f}')\n",
    "            if summary_loss.avg < self.best_loss:\n",
    "                self.best_loss = summary_loss.avg\n",
    "                self.save_model(f'{self.base_dir}/best-loss-checkpoint-{str(self.epoch).zfill(3)}epoch.bin')\n",
    "                for path in sorted(glob(f'{self.base_dir}/best-loss-checkpoint-*epoch.bin'))[:-2]:\n",
    "                    os.remove(path)\n",
    "                    \n",
    "            if roc_auc_scores.avg > self.best_score:\n",
    "                self.best_score = roc_auc_scores.avg\n",
    "                self.save_model(f'{self.base_dir}/best-score-checkpoint-{str(self.epoch).zfill(3)}epoch.bin')\n",
    "                for path in sorted(glob(f'{self.base_dir}/best-score-checkpoint-*epoch.bin'))[:-2]:\n",
    "                    os.remove(path)\n",
    "                    \n",
    "            if ap_scores.avg > self.best_ap:\n",
    "                self.best_ap = ap_scores.avg\n",
    "                self.save_model(f'{self.base_dir}/best-ap-checkpoint-{str(self.epoch).zfill(3)}epoch.bin')\n",
    "                for path in sorted(glob(f'{self.base_dir}/best-ap-checkpoint-*epoch.bin'))[:-2]:\n",
    "                    os.remove(path)\n",
    "\n",
    "            if self.config.validation_scheduler:\n",
    "                self.scheduler.step(metrics=summary_loss.avg)\n",
    "\n",
    "            self.epoch += 1\n",
    "\n",
    "    def validation(self, val_loader):\n",
    "        self.model.eval()\n",
    "        summary_loss = AverageMeter()\n",
    "        roc_auc_scores = RocAucMeter()\n",
    "        ap_scores = APScoreMeter()\n",
    "        t = time.time()\n",
    "        for step, (data, targets) in enumerate(val_loader):\n",
    "            images=data[0]\n",
    "            if self.config.verbose:\n",
    "                if step % self.config.verbose_step == 0:\n",
    "                    print(\n",
    "                        f'Val Step {step}/{len(val_loader)}, ' + \\\n",
    "                        f'summary_loss: {summary_loss.avg:.5f}, roc_auc: {roc_auc_scores.avg:.5f}, ap: {ap_scores.avg:.5f} ' + \\\n",
    "                        f'time: {(time.time() - t):.5f}', end='\\r'\n",
    "                    )\n",
    "            with torch.no_grad():\n",
    "                targets = targets.to(self.device).float()\n",
    "#                 images=\n",
    "                batch_size = images.shape[0]\n",
    "                data[0] = data[0].to(self.device).float()\n",
    "                data[1] = data[1].to(self.device).float()\n",
    "\n",
    "                \n",
    "#                 =images\n",
    "                outputs = self.model(data)\n",
    "                loss = self.criterion(outputs, targets)\n",
    "                roc_auc_scores.update(targets, outputs)\n",
    "                ap_scores.update(targets, outputs)\n",
    "                summary_loss.update(loss.detach().item(), batch_size)\n",
    "\n",
    "        return summary_loss, roc_auc_scores, ap_scores\n",
    "\n",
    "    def train_one_epoch(self, train_loader):\n",
    "        self.model.train()\n",
    "        summary_loss = AverageMeter()\n",
    "        roc_auc_scores = RocAucMeter()\n",
    "        ap_scores = APScoreMeter()\n",
    "        t = time.time()\n",
    "        for step, (data, targets) in enumerate(train_loader):\n",
    "            images=data[0]\n",
    "\n",
    "            if self.config.verbose:\n",
    "                if step % self.config.verbose_step == 0:\n",
    "                    print(\n",
    "                        f'Train Step {step}/{len(train_loader)}, ' + \\\n",
    "                        f'summary_loss: {summary_loss.avg:.5f}, roc_auc: {roc_auc_scores.avg:.5f}, ap: {ap_scores.avg:.5f} ' + \\\n",
    "                        f'time: {(time.time() - t):.5f}', end='\\r'\n",
    "                    )\n",
    "            \n",
    "            targets = targets.to(self.device).float()\n",
    "            data[0] = data[0].to(self.device).float()\n",
    "            data[1] = data[1].to(self.device).float()            \n",
    "            batch_size = images.shape[0]\n",
    "            \n",
    "            self.optimizer.zero_grad()\n",
    "            outputs = self.model(data)\n",
    "            loss = self.criterion(outputs, targets)\n",
    "            loss.backward()\n",
    "            \n",
    "            roc_auc_scores.update(targets, outputs)\n",
    "            ap_scores.update(targets, outputs)\n",
    "            summary_loss.update(loss.detach().item(), batch_size)\n",
    "\n",
    "            self.optimizer.step()\n",
    "\n",
    "            if self.config.step_scheduler:\n",
    "                self.scheduler.step()\n",
    "\n",
    "        return summary_loss, roc_auc_scores, ap_scores\n",
    "    \n",
    "    def save_model(self, path):\n",
    "        self.model.eval()\n",
    "        torch.save(self.model.state_dict(),path)\n",
    "\n",
    "    def save(self, path):\n",
    "        self.model.eval()\n",
    "        torch.save({\n",
    "            'model_state_dict': self.model.state_dict(),\n",
    "            'optimizer_state_dict': self.optimizer.state_dict(),\n",
    "            'scheduler_state_dict': self.scheduler.state_dict(),\n",
    "            'best_score': self.best_score,\n",
    "            'best_ap': self.best_ap,\n",
    "            'best_loss': self.best_loss,\n",
    "            'epoch': self.epoch,\n",
    "        }, path)\n",
    "\n",
    "    def load(self, path):\n",
    "        checkpoint = torch.load(path)\n",
    "        self.model.load_state_dict(checkpoint['model_state_dict'])\n",
    "        self.optimizer.load_state_dict(checkpoint['optimizer_state_dict'])\n",
    "        self.scheduler.load_state_dict(checkpoint['scheduler_state_dict'])\n",
    "        self.best_score = checkpoint['best_score']\n",
    "        self.best_ap = checkpoint['best_ap']\n",
    "        self.best_loss = checkpoint['best_loss']\n",
    "        self.epoch = checkpoint['epoch']\n",
    "        \n",
    "    def log(self, message):\n",
    "        if self.config.verbose:\n",
    "            print(message)\n",
    "        with open(self.log_path, 'a+') as logger:\n",
    "            logger.write(f'{message}\\n')"
   ]
  },
  {
   "cell_type": "code",
   "execution_count": 17,
   "metadata": {
    "execution": {
     "iopub.execute_input": "2024-09-29T17:08:11.990002Z",
     "iopub.status.busy": "2024-09-29T17:08:11.989036Z",
     "iopub.status.idle": "2024-09-29T17:08:11.991782Z",
     "shell.execute_reply": "2024-09-29T17:08:11.991134Z",
     "shell.execute_reply.started": "2024-09-29T16:49:07.560875Z"
    },
    "papermill": {
     "duration": 0.040647,
     "end_time": "2024-09-29T17:08:11.991894",
     "exception": false,
     "start_time": "2024-09-29T17:08:11.951247",
     "status": "completed"
    },
    "tags": []
   },
   "outputs": [],
   "source": [
    "class TrainGlobalConfig:\n",
    "    num_workers = 2\n",
    "    batch_size = 8 \n",
    "    n_epochs = 20\n",
    "    lr = 0.00003\n",
    "\n",
    "    # -------------------\n",
    "    verbose = True\n",
    "    verbose_step = 1\n",
    "    # -------------------\n",
    "\n",
    "    # --------------------\n",
    "    step_scheduler = False  # do scheduler.step after optimizer.step\n",
    "    validation_scheduler = True  # do scheduler.step after validation stage loss\n",
    "\n",
    "#     SchedulerClass = torch.optim.lr_scheduler.OneCycleLR\n",
    "#     scheduler_params = dict(\n",
    "#         max_lr=0.001,\n",
    "#         epochs=n_epochs,\n",
    "#         steps_per_epoch=int(len(train_dataset) / batch_size),\n",
    "#         pct_start=0.1,\n",
    "#         anneal_strategy='cos', \n",
    "#         final_div_factor=10**5\n",
    "#     )\n",
    "    \n",
    "    SchedulerClass = torch.optim.lr_scheduler.ReduceLROnPlateau\n",
    "    scheduler_params = dict(\n",
    "        mode='min',\n",
    "        factor=0.8,\n",
    "        patience=1,\n",
    "        verbose=False, \n",
    "        threshold=0.0001,\n",
    "        threshold_mode='abs',\n",
    "        cooldown=0, \n",
    "        min_lr=1e-8,\n",
    "        eps=1e-08\n",
    "    )\n",
    "    # --------------------"
   ]
  },
  {
   "cell_type": "markdown",
   "metadata": {
    "papermill": {
     "duration": 0.030945,
     "end_time": "2024-09-29T17:08:12.053024",
     "exception": false,
     "start_time": "2024-09-29T17:08:12.022079",
     "status": "completed"
    },
    "tags": []
   },
   "source": [
    "# Save all states for \"honest\" training of folds"
   ]
  },
  {
   "cell_type": "code",
   "execution_count": 18,
   "metadata": {
    "execution": {
     "iopub.execute_input": "2024-09-29T17:08:12.118423Z",
     "iopub.status.busy": "2024-09-29T17:08:12.117809Z",
     "iopub.status.idle": "2024-09-29T17:08:12.300529Z",
     "shell.execute_reply": "2024-09-29T17:08:12.299977Z",
     "shell.execute_reply.started": "2024-09-29T16:49:07.574129Z"
    },
    "papermill": {
     "duration": 0.217644,
     "end_time": "2024-09-29T17:08:12.300642",
     "exception": false,
     "start_time": "2024-09-29T17:08:12.082998",
     "status": "completed"
    },
    "tags": []
   },
   "outputs": [
    {
     "name": "stdout",
     "output_type": "stream",
     "text": [
      "Fitter prepared. Device is cuda:0\n"
     ]
    }
   ],
   "source": [
    "fitter = Fitter(model=net, device=torch.device('cuda:0'), config=TrainGlobalConfig, folder='base_state')\n",
    "BASE_STATE_PATH = f'{fitter.base_dir}/base_state.bin'\n",
    "fitter.save(BASE_STATE_PATH)"
   ]
  },
  {
   "cell_type": "code",
   "execution_count": 19,
   "metadata": {
    "execution": {
     "iopub.execute_input": "2024-09-29T17:08:12.375858Z",
     "iopub.status.busy": "2024-09-29T17:08:12.375118Z",
     "iopub.status.idle": "2024-09-29T17:08:17.615702Z",
     "shell.execute_reply": "2024-09-29T17:08:17.614887Z",
     "shell.execute_reply.started": "2024-09-29T16:49:07.844908Z"
    },
    "papermill": {
     "duration": 5.284668,
     "end_time": "2024-09-29T17:08:17.615859",
     "exception": false,
     "start_time": "2024-09-29T17:08:12.331191",
     "status": "completed"
    },
    "tags": []
   },
   "outputs": [],
   "source": [
    "from catalyst.data.sampler import BalanceClassSampler\n",
    "\n",
    "def train_fold(fold_number):\n",
    "    \n",
    "    \n",
    "    train_dataset = DatasetRetriever(\n",
    "        df=train_df,\n",
    "        \n",
    "        image_ids=df_folds[df_folds['fold'] != fold_number].index.values,\n",
    "        labels=df_folds[df_folds['fold'] != fold_number].target.values,\n",
    "        transforms=get_train_transforms(),\n",
    "        meta_features=meta_features\n",
    "\n",
    "    )\n",
    "\n",
    "    df_val = df_folds[(df_folds['fold'] == fold_number) & (df_folds['source'] == 'ISIC20')]\n",
    "\n",
    "    validation_dataset = DatasetRetriever(\n",
    "        df=train_df,\n",
    "        image_ids=df_val.index.values,\n",
    "        labels=df_val.target.values,\n",
    "        transforms=get_valid_transforms(),\n",
    "        meta_features=meta_features\n",
    "\n",
    "    )\n",
    "\n",
    "    train_loader = torch.utils.data.DataLoader(\n",
    "        train_dataset,\n",
    "        sampler=BalanceClassSampler(labels=train_dataset.get_labels(), mode=\"downsampling\"),\n",
    "        batch_size=TrainGlobalConfig.batch_size,\n",
    "        pin_memory=False,\n",
    "        drop_last=True,\n",
    "        num_workers=TrainGlobalConfig.num_workers,\n",
    "    )\n",
    "    val_loader = torch.utils.data.DataLoader(\n",
    "        validation_dataset, \n",
    "        batch_size=TrainGlobalConfig.batch_size,\n",
    "        num_workers=TrainGlobalConfig.num_workers,\n",
    "        shuffle=False,\n",
    "        sampler=SequentialSampler(validation_dataset),\n",
    "        pin_memory=False,\n",
    "    )\n",
    "\n",
    "    fitter = Fitter(model=net, device=torch.device('cuda:0'), config=TrainGlobalConfig, folder=f'fold{fold_number}')\n",
    "    fitter.load(BASE_STATE_PATH)\n",
    "    fitter.fit(train_loader, val_loader)"
   ]
  },
  {
   "cell_type": "code",
   "execution_count": 20,
   "metadata": {
    "execution": {
     "iopub.execute_input": "2024-09-29T17:08:17.694087Z",
     "iopub.status.busy": "2024-09-29T17:08:17.692784Z",
     "iopub.status.idle": "2024-09-29T22:16:18.587926Z",
     "shell.execute_reply": "2024-09-29T22:16:18.587253Z"
    },
    "papermill": {
     "duration": 18480.937091,
     "end_time": "2024-09-29T22:16:18.588068",
     "exception": false,
     "start_time": "2024-09-29T17:08:17.650977",
     "status": "completed"
    },
    "tags": []
   },
   "outputs": [
    {
     "name": "stdout",
     "output_type": "stream",
     "text": [
      "Fitter prepared. Device is cuda:0\n",
      "\n",
      "2024-09-29T17:08:19.955135\n",
      "LR: 3e-05\n",
      "[RESULT]: Train. Epoch: 0, summary_loss: 0.52278, roc_auc: 0.85473, ap: 0.84702, time: 778.25377\n",
      "[RESULT]: Val. Epoch: 0, summary_loss: 0.30715, roc_auc: 0.90997, ap: 0.22505, time: 146.95924\n",
      "\n",
      "2024-09-29T17:23:45.684874\n",
      "LR: 3e-05\n",
      "[RESULT]: Train. Epoch: 1, summary_loss: 0.47933, roc_auc: 0.89208, ap: 0.88495, time: 775.62873\n",
      "[RESULT]: Val. Epoch: 1, summary_loss: 0.26883, roc_auc: 0.92351, ap: 0.26351, time: 146.34136\n",
      "\n",
      "2024-09-29T17:39:08.165761\n",
      "LR: 3e-05\n",
      "[RESULT]: Train. Epoch: 2, summary_loss: 0.46298, roc_auc: 0.90458, ap: 0.89751, time: 775.77803\n",
      "[RESULT]: Val. Epoch: 2, summary_loss: 0.25843, roc_auc: 0.91981, ap: 0.30767, time: 146.36169\n",
      "\n",
      "2024-09-29T17:54:30.689940\n",
      "LR: 3e-05\n",
      "[RESULT]: Train. Epoch: 3, summary_loss: 0.45607, roc_auc: 0.90941, ap: 0.90437, time: 775.71614\n",
      "[RESULT]: Val. Epoch: 3, summary_loss: 0.27296, roc_auc: 0.93093, ap: 0.34513, time: 146.43111\n",
      "\n",
      "2024-09-29T18:09:53.220898\n",
      "LR: 3e-05\n",
      "[RESULT]: Train. Epoch: 4, summary_loss: 0.43515, roc_auc: 0.92335, ap: 0.91535, time: 775.70829\n",
      "[RESULT]: Val. Epoch: 4, summary_loss: 0.25644, roc_auc: 0.92929, ap: 0.32175, time: 146.58422\n",
      "\n",
      "2024-09-29T18:25:15.709150\n",
      "LR: 3e-05\n",
      "[RESULT]: Train. Epoch: 5, summary_loss: 0.42281, roc_auc: 0.93085, ap: 0.92465, time: 776.07165\n",
      "[RESULT]: Val. Epoch: 5, summary_loss: 0.27248, roc_auc: 0.93967, ap: 0.38798, time: 146.49462\n",
      "\n",
      "2024-09-29T18:40:38.660477\n",
      "LR: 3e-05\n",
      "[RESULT]: Train. Epoch: 6, summary_loss: 0.40519, roc_auc: 0.94091, ap: 0.93535, time: 776.13687\n",
      "[RESULT]: Val. Epoch: 6, summary_loss: 0.27137, roc_auc: 0.94094, ap: 0.36055, time: 147.35118\n",
      "\n",
      "2024-09-29T18:56:02.348283\n",
      "LR: 2.4e-05\n",
      "[RESULT]: Train. Epoch: 7, summary_loss: 0.39409, roc_auc: 0.94640, ap: 0.93844, time: 777.11784\n",
      "[RESULT]: Val. Epoch: 7, summary_loss: 0.25924, roc_auc: 0.94405, ap: 0.37940, time: 146.92205\n",
      "\n",
      "2024-09-29T19:11:26.584784\n",
      "LR: 2.4e-05\n",
      "[RESULT]: Train. Epoch: 8, summary_loss: 0.38900, roc_auc: 0.94929, ap: 0.94325, time: 776.65156\n",
      "[RESULT]: Val. Epoch: 8, summary_loss: 0.24977, roc_auc: 0.94584, ap: 0.37768, time: 147.09832\n",
      "\n",
      "2024-09-29T19:26:50.730044\n",
      "LR: 2.4e-05\n",
      "[RESULT]: Train. Epoch: 9, summary_loss: 0.37874, roc_auc: 0.95414, ap: 0.94829, time: 777.22155\n",
      "[RESULT]: Val. Epoch: 9, summary_loss: 0.25728, roc_auc: 0.93798, ap: 0.37233, time: 147.67614\n",
      "\n",
      "2024-09-29T19:42:15.630808\n",
      "LR: 2.4e-05\n",
      "[RESULT]: Train. Epoch: 10, summary_loss: 0.37155, roc_auc: 0.95750, ap: 0.95182, time: 778.14062\n",
      "[RESULT]: Val. Epoch: 10, summary_loss: 0.25282, roc_auc: 0.95124, ap: 0.36089, time: 147.73981\n",
      "\n",
      "2024-09-29T19:57:41.709324\n",
      "LR: 1.9200000000000003e-05\n",
      "[RESULT]: Train. Epoch: 11, summary_loss: 0.36297, roc_auc: 0.96194, ap: 0.95792, time: 777.44500\n",
      "[RESULT]: Val. Epoch: 11, summary_loss: 0.26602, roc_auc: 0.94510, ap: 0.36929, time: 147.06327\n",
      "\n",
      "2024-09-29T20:13:06.220624\n",
      "LR: 1.9200000000000003e-05\n",
      "[RESULT]: Train. Epoch: 12, summary_loss: 0.35878, roc_auc: 0.96385, ap: 0.96019, time: 777.80150\n",
      "[RESULT]: Val. Epoch: 12, summary_loss: 0.25541, roc_auc: 0.94450, ap: 0.37595, time: 147.04243\n",
      "\n",
      "2024-09-29T20:28:31.067454\n",
      "LR: 1.5360000000000002e-05\n",
      "[RESULT]: Train. Epoch: 13, summary_loss: 0.35001, roc_auc: 0.96748, ap: 0.96364, time: 777.18473\n",
      "[RESULT]: Val. Epoch: 13, summary_loss: 0.26025, roc_auc: 0.94024, ap: 0.38480, time: 147.05959\n",
      "\n",
      "2024-09-29T20:43:55.314903\n",
      "LR: 1.5360000000000002e-05\n",
      "[RESULT]: Train. Epoch: 14, summary_loss: 0.34784, roc_auc: 0.96823, ap: 0.96422, time: 777.20561\n",
      "[RESULT]: Val. Epoch: 14, summary_loss: 0.25642, roc_auc: 0.94399, ap: 0.38298, time: 147.00372\n",
      "\n",
      "2024-09-29T20:59:19.527378\n",
      "LR: 1.2288000000000002e-05\n",
      "[RESULT]: Train. Epoch: 15, summary_loss: 0.33824, roc_auc: 0.97260, ap: 0.97066, time: 776.16555\n",
      "[RESULT]: Val. Epoch: 15, summary_loss: 0.25234, roc_auc: 0.93183, ap: 0.37249, time: 146.99853\n",
      "\n",
      "2024-09-29T21:14:42.694097\n",
      "LR: 1.2288000000000002e-05\n",
      "[RESULT]: Train. Epoch: 16, summary_loss: 0.33835, roc_auc: 0.97187, ap: 0.96724, time: 776.58112\n",
      "[RESULT]: Val. Epoch: 16, summary_loss: 0.25331, roc_auc: 0.93938, ap: 0.39187, time: 146.99787\n",
      "\n",
      "2024-09-29T21:30:06.469709\n",
      "LR: 9.830400000000002e-06\n",
      "[RESULT]: Train. Epoch: 17, summary_loss: 0.33364, roc_auc: 0.97397, ap: 0.97024, time: 776.25711\n",
      "[RESULT]: Val. Epoch: 17, summary_loss: 0.25513, roc_auc: 0.93742, ap: 0.37000, time: 147.11929\n",
      "\n",
      "2024-09-29T21:45:29.849203\n",
      "LR: 9.830400000000002e-06\n",
      "[RESULT]: Train. Epoch: 18, summary_loss: 0.32887, roc_auc: 0.97482, ap: 0.97067, time: 777.06959\n",
      "[RESULT]: Val. Epoch: 18, summary_loss: 0.25624, roc_auc: 0.93160, ap: 0.35884, time: 147.18265\n",
      "\n",
      "2024-09-29T22:00:54.103842\n",
      "LR: 7.864320000000002e-06\n",
      "[RESULT]: Train. Epoch: 19, summary_loss: 0.32161, roc_auc: 0.97810, ap: 0.97530, time: 777.18574\n",
      "[RESULT]: Val. Epoch: 19, summary_loss: 0.25213, roc_auc: 0.93529, ap: 0.37447, time: 147.28361\n"
     ]
    }
   ],
   "source": [
    "import warnings\n",
    "\n",
    "warnings.filterwarnings(\"ignore\", category=DeprecationWarning) \n",
    "\n",
    "for fold_number in range(1): # range(5)\n",
    "    train_fold(fold_number=fold_number)"
   ]
  },
  {
   "cell_type": "markdown",
   "metadata": {
    "papermill": {
     "duration": 10.383663,
     "end_time": "2024-09-29T22:16:39.402078",
     "exception": false,
     "start_time": "2024-09-29T22:16:29.018415",
     "status": "completed"
    },
    "tags": []
   },
   "source": [
    "# Thank you for reading my kernel!"
   ]
  },
  {
   "cell_type": "code",
   "execution_count": null,
   "metadata": {
    "papermill": {
     "duration": 10.335954,
     "end_time": "2024-09-29T22:17:00.013127",
     "exception": false,
     "start_time": "2024-09-29T22:16:49.677173",
     "status": "completed"
    },
    "tags": []
   },
   "outputs": [],
   "source": []
  },
  {
   "cell_type": "code",
   "execution_count": null,
   "metadata": {
    "papermill": {
     "duration": 10.32104,
     "end_time": "2024-09-29T22:17:20.704769",
     "exception": false,
     "start_time": "2024-09-29T22:17:10.383729",
     "status": "completed"
    },
    "tags": []
   },
   "outputs": [],
   "source": []
  },
  {
   "cell_type": "code",
   "execution_count": null,
   "metadata": {
    "papermill": {
     "duration": 10.389107,
     "end_time": "2024-09-29T22:17:41.390950",
     "exception": false,
     "start_time": "2024-09-29T22:17:31.001843",
     "status": "completed"
    },
    "tags": []
   },
   "outputs": [],
   "source": []
  }
 ],
 "metadata": {
  "kaggle": {
   "accelerator": "gpu",
   "dataSources": [
    {
     "databundleVersionId": 1222630,
     "sourceId": 20270,
     "sourceType": "competition"
    },
    {
     "datasetId": 690737,
     "sourceId": 1243687,
     "sourceType": "datasetVersion"
    }
   ],
   "dockerImageVersionId": 29928,
   "isGpuEnabled": true,
   "isInternetEnabled": true,
   "language": "python",
   "sourceType": "notebook"
  },
  "kernelspec": {
   "display_name": "Python 3",
   "language": "python",
   "name": "python3"
  },
  "language_info": {
   "codemirror_mode": {
    "name": "ipython",
    "version": 3
   },
   "file_extension": ".py",
   "mimetype": "text/x-python",
   "name": "python",
   "nbconvert_exporter": "python",
   "pygments_lexer": "ipython3",
   "version": "3.7.6"
  },
  "papermill": {
   "duration": 18604.768289,
   "end_time": "2024-09-29T22:17:51.884546",
   "environment_variables": {},
   "exception": null,
   "input_path": "__notebook__.ipynb",
   "output_path": "__notebook__.ipynb",
   "parameters": {},
   "start_time": "2024-09-29T17:07:47.116257",
   "version": "2.1.0"
  },
  "widgets": {
   "application/vnd.jupyter.widget-state+json": {
    "state": {
     "0195cd9acf5e4e3ab74e9edc5c74062c": {
      "model_module": "@jupyter-widgets/controls",
      "model_module_version": "1.5.0",
      "model_name": "DescriptionStyleModel",
      "state": {
       "_model_module": "@jupyter-widgets/controls",
       "_model_module_version": "1.5.0",
       "_model_name": "DescriptionStyleModel",
       "_view_count": null,
       "_view_module": "@jupyter-widgets/base",
       "_view_module_version": "1.2.0",
       "_view_name": "StyleView",
       "description_width": ""
      }
     },
     "050eec1d7f3c4822bf100997f4274626": {
      "model_module": "@jupyter-widgets/controls",
      "model_module_version": "1.5.0",
      "model_name": "FloatProgressModel",
      "state": {
       "_dom_classes": [],
       "_model_module": "@jupyter-widgets/controls",
       "_model_module_version": "1.5.0",
       "_model_name": "FloatProgressModel",
       "_view_count": null,
       "_view_module": "@jupyter-widgets/controls",
       "_view_module_version": "1.5.0",
       "_view_name": "ProgressView",
       "bar_style": "success",
       "description": "100%",
       "description_tooltip": null,
       "layout": "IPY_MODEL_30544e4cc95e44d5aa8353dbce732aa7",
       "max": 122410125.0,
       "min": 0.0,
       "orientation": "horizontal",
       "style": "IPY_MODEL_337415c291d94af7998c1e1c43db56f5",
       "value": 122410125.0
      }
     },
     "1384e39797594e18ba6b95d4cba65a6e": {
      "model_module": "@jupyter-widgets/base",
      "model_module_version": "1.2.0",
      "model_name": "LayoutModel",
      "state": {
       "_model_module": "@jupyter-widgets/base",
       "_model_module_version": "1.2.0",
       "_model_name": "LayoutModel",
       "_view_count": null,
       "_view_module": "@jupyter-widgets/base",
       "_view_module_version": "1.2.0",
       "_view_name": "LayoutView",
       "align_content": null,
       "align_items": null,
       "align_self": null,
       "border": null,
       "bottom": null,
       "display": null,
       "flex": null,
       "flex_flow": null,
       "grid_area": null,
       "grid_auto_columns": null,
       "grid_auto_flow": null,
       "grid_auto_rows": null,
       "grid_column": null,
       "grid_gap": null,
       "grid_row": null,
       "grid_template_areas": null,
       "grid_template_columns": null,
       "grid_template_rows": null,
       "height": null,
       "justify_content": null,
       "justify_items": null,
       "left": null,
       "margin": null,
       "max_height": null,
       "max_width": null,
       "min_height": null,
       "min_width": null,
       "object_fit": null,
       "object_position": null,
       "order": null,
       "overflow": null,
       "overflow_x": null,
       "overflow_y": null,
       "padding": null,
       "right": null,
       "top": null,
       "visibility": null,
       "width": null
      }
     },
     "2a57fd0bac5a4740987f4b0111f8580a": {
      "model_module": "@jupyter-widgets/controls",
      "model_module_version": "1.5.0",
      "model_name": "HTMLModel",
      "state": {
       "_dom_classes": [],
       "_model_module": "@jupyter-widgets/controls",
       "_model_module_version": "1.5.0",
       "_model_name": "HTMLModel",
       "_view_count": null,
       "_view_module": "@jupyter-widgets/controls",
       "_view_module_version": "1.5.0",
       "_view_name": "HTMLView",
       "description": "",
       "description_tooltip": null,
       "layout": "IPY_MODEL_1384e39797594e18ba6b95d4cba65a6e",
       "placeholder": "​",
       "style": "IPY_MODEL_0195cd9acf5e4e3ab74e9edc5c74062c",
       "value": " 117M/117M [00:00&lt;00:00, 185MB/s]"
      }
     },
     "30544e4cc95e44d5aa8353dbce732aa7": {
      "model_module": "@jupyter-widgets/base",
      "model_module_version": "1.2.0",
      "model_name": "LayoutModel",
      "state": {
       "_model_module": "@jupyter-widgets/base",
       "_model_module_version": "1.2.0",
       "_model_name": "LayoutModel",
       "_view_count": null,
       "_view_module": "@jupyter-widgets/base",
       "_view_module_version": "1.2.0",
       "_view_name": "LayoutView",
       "align_content": null,
       "align_items": null,
       "align_self": null,
       "border": null,
       "bottom": null,
       "display": null,
       "flex": null,
       "flex_flow": null,
       "grid_area": null,
       "grid_auto_columns": null,
       "grid_auto_flow": null,
       "grid_auto_rows": null,
       "grid_column": null,
       "grid_gap": null,
       "grid_row": null,
       "grid_template_areas": null,
       "grid_template_columns": null,
       "grid_template_rows": null,
       "height": null,
       "justify_content": null,
       "justify_items": null,
       "left": null,
       "margin": null,
       "max_height": null,
       "max_width": null,
       "min_height": null,
       "min_width": null,
       "object_fit": null,
       "object_position": null,
       "order": null,
       "overflow": null,
       "overflow_x": null,
       "overflow_y": null,
       "padding": null,
       "right": null,
       "top": null,
       "visibility": null,
       "width": null
      }
     },
     "337415c291d94af7998c1e1c43db56f5": {
      "model_module": "@jupyter-widgets/controls",
      "model_module_version": "1.5.0",
      "model_name": "ProgressStyleModel",
      "state": {
       "_model_module": "@jupyter-widgets/controls",
       "_model_module_version": "1.5.0",
       "_model_name": "ProgressStyleModel",
       "_view_count": null,
       "_view_module": "@jupyter-widgets/base",
       "_view_module_version": "1.2.0",
       "_view_name": "StyleView",
       "bar_color": null,
       "description_width": "initial"
      }
     },
     "8c04f1fb2f504f87a231b321d611c6fa": {
      "model_module": "@jupyter-widgets/controls",
      "model_module_version": "1.5.0",
      "model_name": "HBoxModel",
      "state": {
       "_dom_classes": [],
       "_model_module": "@jupyter-widgets/controls",
       "_model_module_version": "1.5.0",
       "_model_name": "HBoxModel",
       "_view_count": null,
       "_view_module": "@jupyter-widgets/controls",
       "_view_module_version": "1.5.0",
       "_view_name": "HBoxView",
       "box_style": "",
       "children": [
        "IPY_MODEL_050eec1d7f3c4822bf100997f4274626",
        "IPY_MODEL_2a57fd0bac5a4740987f4b0111f8580a"
       ],
       "layout": "IPY_MODEL_ec02c5b1d1aa450893c653eebe894b74"
      }
     },
     "ec02c5b1d1aa450893c653eebe894b74": {
      "model_module": "@jupyter-widgets/base",
      "model_module_version": "1.2.0",
      "model_name": "LayoutModel",
      "state": {
       "_model_module": "@jupyter-widgets/base",
       "_model_module_version": "1.2.0",
       "_model_name": "LayoutModel",
       "_view_count": null,
       "_view_module": "@jupyter-widgets/base",
       "_view_module_version": "1.2.0",
       "_view_name": "LayoutView",
       "align_content": null,
       "align_items": null,
       "align_self": null,
       "border": null,
       "bottom": null,
       "display": null,
       "flex": null,
       "flex_flow": null,
       "grid_area": null,
       "grid_auto_columns": null,
       "grid_auto_flow": null,
       "grid_auto_rows": null,
       "grid_column": null,
       "grid_gap": null,
       "grid_row": null,
       "grid_template_areas": null,
       "grid_template_columns": null,
       "grid_template_rows": null,
       "height": null,
       "justify_content": null,
       "justify_items": null,
       "left": null,
       "margin": null,
       "max_height": null,
       "max_width": null,
       "min_height": null,
       "min_width": null,
       "object_fit": null,
       "object_position": null,
       "order": null,
       "overflow": null,
       "overflow_x": null,
       "overflow_y": null,
       "padding": null,
       "right": null,
       "top": null,
       "visibility": null,
       "width": null
      }
     }
    },
    "version_major": 2,
    "version_minor": 0
   }
  }
 },
 "nbformat": 4,
 "nbformat_minor": 4
}
